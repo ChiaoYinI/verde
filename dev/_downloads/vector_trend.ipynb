{
  "cells": [
    {
      "cell_type": "code",
      "execution_count": null,
      "metadata": {
        "collapsed": false
      },
      "outputs": [],
      "source": [
        "%matplotlib inline"
      ]
    },
    {
      "cell_type": "markdown",
      "metadata": {},
      "source": [
        "\nTrends in vector data\n=====================\n\nVerde provides the :class:`verde.VectorTrend` class to estimate a polynomial\ntrend on each component of vector data, like GPS velocities. You can access\neach trend as a separate :class:`verde.Trend` or operate on all vector\ncomponents directly using using :meth:`verde.VectorTrend.predict`,\n:meth:`verde.VectorTrend.grid`, etc, or chaining it with a vector interpolator\nusing :class:`verde.Chain`.\n\n"
      ]
    },
    {
      "cell_type": "code",
      "execution_count": null,
      "metadata": {
        "collapsed": false
      },
      "outputs": [],
      "source": [
        "import matplotlib.pyplot as plt\nimport cartopy.crs as ccrs\nimport cartopy.feature as cfeature\n# We need these two classes to set proper ticklabels for Cartopy maps\nfrom cartopy.mpl.ticker import LongitudeFormatter, LatitudeFormatter\nimport numpy as np\nimport verde as vd\n\n\n# Fetch the GPS data from the U.S. West coast. The data has a strong trend\n# toward the North-West because of the relative movement along the San Andreas\n# Fault System.\ndata = vd.datasets.fetch_california_gps()\n\n# We'll fit a degree 4 trend on both the East and North components and weight\n# the data using the inverse of the variance of each component.\ntrend = vd.VectorTrend(degree=4)\nweights = vd.variance_to_weights((data.std_east**2, data.std_north**2))\ntrend.fit(coordinates=(data.longitude, data.latitude),\n          data=(data.velocity_east, data.velocity_north),\n          weights=weights)\nprint(\"Vector trend estimator:\", trend)\n\n# The separate Trend objects for each component can be accessed through the\n# 'component_' attribute. You could grid them individually if you wanted.\nprint(\"East component trend:\", trend.component_[0])\nprint(\"East trend coefficients:\", trend.component_[0].coef_)\nprint(\"North component trend:\", trend.component_[1])\nprint(\"North trend coefficients:\", trend.component_[1].coef_)\n\n# We can make a grid with both trend components as data variables\ngrid = trend.grid(spacing=0.1, dims=['latitude', 'longitude'])\nprint(\"\\nGridded 2-component trend:\")\nprint(grid)\n\n\n# Now we can map both trends along with the original data for comparison\ndef plot_trend(ax, component, title):\n    \"Make a map of the given trend component on the given axes\"\n    crs = ccrs.PlateCarree()\n    ax.set_title(title)\n    # Plot the trend in pseudo color\n    maxabs = np.abs([component.min(), component.max()]).max()\n    tmp = ax.pcolormesh(component.longitude, component.latitude,\n                        component.values, vmin=-maxabs, vmax=maxabs,\n                        cmap='seismic', transform=crs)\n    cb = plt.colorbar(tmp, ax=ax, orientation='horizontal', pad=0.05)\n    cb.set_label('meters/year')\n    # Plot the original data\n    ax.quiver(data.longitude.values, data.latitude.values,\n              data.velocity_east.values, data.velocity_north.values,\n              scale=0.2, transform=crs, color='y', label=\"Original data\")\n    # and the residuals\n    ax.quiver(data.longitude.values, data.latitude.values,\n              trend.residual_[0].values, trend.residual_[1].values,\n              scale=0.2, transform=crs, color='k', label='Residuals')\n    # Setup the map ticks\n    ax.set_xticks(np.arange(-124, -115, 4), crs=crs)\n    ax.set_yticks(np.arange(33, 42, 2), crs=crs)\n    ax.xaxis.set_major_formatter(LongitudeFormatter())\n    ax.yaxis.set_major_formatter(LatitudeFormatter())\n    ax.coastlines(color='white')\n    ax.set_extent(vd.get_region((data.longitude, data.latitude)), crs=crs)\n\n\n# Make a plot of the data using Cartopy to handle projections and coastlines\nfig, axes = plt.subplots(1, 2, figsize=(9, 7),\n                         subplot_kw=dict(projection=ccrs.Mercator()))\n# Plot the two trend components\nplot_trend(axes[0], grid.east_component, \"East component trend\")\nplot_trend(axes[1], grid.north_component, \"North component trend\")\naxes[0].legend(loc=\"lower left\")\nplt.tight_layout()\nplt.show()"
      ]
    }
  ],
  "metadata": {
    "kernelspec": {
      "display_name": "Python 3",
      "language": "python",
      "name": "python3"
    },
    "language_info": {
      "codemirror_mode": {
        "name": "ipython",
        "version": 3
      },
      "file_extension": ".py",
      "mimetype": "text/x-python",
      "name": "python",
      "nbconvert_exporter": "python",
      "pygments_lexer": "ipython3",
      "version": "3.6.5"
    }
  },
  "nbformat": 4,
  "nbformat_minor": 0
}