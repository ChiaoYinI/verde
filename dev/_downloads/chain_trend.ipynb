{
  "cells": [
    {
      "cell_type": "code",
      "execution_count": null,
      "metadata": {
        "collapsed": false
      },
      "outputs": [],
      "source": [
        "%matplotlib inline"
      ]
    },
    {
      "cell_type": "markdown",
      "metadata": {},
      "source": [
        "\nChaining operations\n===================\n\nThe :class:`verde.Chain` class allows us to created gridders that perform\nmultiple operations on data. Each step in the chain filters the input and\npasses the result along to the next step. For gridders and trend estimators,\nfiltering means fitting the model and passing along the residuals (input data\nminus predicted data). When predicting data, the predictions of each step are\nadded together. Other operations, like :class:`verde.BlockReduce` and\n:class:`verde.BlockMean` change the input data values and the coordinates as\nwell but don't impact the predictions.\n\nFor example, say we want to decimate some data, calculate a polynomial trend,\nand fit a gridder on the residual values (not the trend), but then make a grid\nof the full data values (trend included). This is useful because decimation is\ncommon and many gridders can't handle trends in data.\n\n"
      ]
    },
    {
      "cell_type": "code",
      "execution_count": null,
      "metadata": {
        "collapsed": false
      },
      "outputs": [],
      "source": [
        "import numpy as np\nimport matplotlib.pyplot as plt\nimport cartopy.crs as ccrs\n# We need these two classes to set proper ticklabels for Cartopy maps\nfrom cartopy.mpl.ticker import LongitudeFormatter, LatitudeFormatter\nimport pyproj\nimport verde as vd\n\n# Load the Rio de Janeiro total field magnetic anomaly data\ndata = vd.datasets.fetch_rio_magnetic_anomaly()\nregion = vd.get_region((data.longitude, data.latitude))\n\n# Create a projection for the data using pyproj so that we can use it as input\n# for the gridder. We'll set the latitude of true scale to the mean latitude of\n# the data.\nprojection = pyproj.Proj(proj='merc', lat_ts=data.latitude.mean())\n\n# Create a chain that fits a 2nd degree trend, decimates the residuals using a\n# blocked mean to avoid aliasing, and then fits a standard gridder to the\n# residuals. The spacing for the blocked mean will be 0.5 arc-minutes\n# (approximately converted to meters).\nspacing = 0.5/60\nchain = vd.Chain([\n    ('trend', vd.Trend(degree=2)),\n    ('reduce', vd.BlockReduce(np.mean, spacing*111e3)),\n    ('spline', vd.Spline(damping=1e-8))])\nprint(\"Chained estimator:\", chain)\n# Calling 'fit' will automatically run the data through the chain\nchain.fit(projection(data.longitude.values, data.latitude.values),\n          data.total_field_anomaly_nt)\n\n# Each component of the chain can be accessed separately using the\n# 'named_steps' attribute\ngrid_trend = chain.named_steps['trend'].grid()\nprint(\"\\nTrend grid:\")\nprint(grid_trend)\n\ngrid_residual = chain.named_steps['spline'].grid()\nprint(\"\\nResidual grid:\")\nprint(grid_residual)\n\n# Chain.grid will use both the trend and the gridder to predict values.\n# We'll use the 'projection' keyword to generate a geographic grid instead of\n# Cartesian\ngrid = chain.grid(region=region, spacing=spacing, projection=projection,\n                  dims=['latitude', 'longitude'],\n                  data_names=['total_field_anomaly'])\nprint(\"\\nChained geographic grid:\")\nprint(grid)\n\n# We'll plot only the chained grid\ncrs = ccrs.PlateCarree()\n\nplt.figure(figsize=(7, 5))\nax = plt.axes(projection=ccrs.Mercator())\nax.set_title(\"De-trend, decimate, and spline\")\nmaxabs = np.max(np.abs([grid.total_field_anomaly.min(),\n                        grid.total_field_anomaly.max()]))\npc = ax.pcolormesh(grid.longitude, grid.latitude, grid.total_field_anomaly,\n                   transform=crs, cmap='seismic', vmin=-maxabs, vmax=maxabs)\ncb = plt.colorbar(pc, pad=0.01)\ncb.set_label('total field anomaly [nT]')\n# Set the proper ticks for a Cartopy map\nax.set_xticks(np.arange(-42.5, -42, 0.1), crs=crs)\nax.set_yticks(np.arange(-22.4, -22, 0.1), crs=crs)\nax.xaxis.set_major_formatter(LongitudeFormatter())\nax.yaxis.set_major_formatter(LatitudeFormatter())\nax.set_extent(region, crs=crs)\nplt.tight_layout()\nplt.show()"
      ]
    }
  ],
  "metadata": {
    "kernelspec": {
      "display_name": "Python 3",
      "language": "python",
      "name": "python3"
    },
    "language_info": {
      "codemirror_mode": {
        "name": "ipython",
        "version": 3
      },
      "file_extension": ".py",
      "mimetype": "text/x-python",
      "name": "python",
      "nbconvert_exporter": "python",
      "pygments_lexer": "ipython3",
      "version": "3.6.5"
    }
  },
  "nbformat": 4,
  "nbformat_minor": 0
}