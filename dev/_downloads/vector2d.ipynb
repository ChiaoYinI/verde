{
  "cells": [
    {
      "cell_type": "code",
      "execution_count": null,
      "metadata": {
        "collapsed": false
      },
      "outputs": [],
      "source": [
        "%matplotlib inline"
      ]
    },
    {
      "cell_type": "markdown",
      "metadata": {},
      "source": [
        "\nGridding 2-component vector data\n================================\n\nOne way of gridding vector data would be grid each component separately using\n:class:`verde.Spline`. Alternatively, :class:`verde.Vector2D` can grid two\ncomponents simultaneously in a way that couples them through elastic\ndeformation theory. This is particularly suited, though not exclusive, to data\nthat represent elastic/semi-elastic deformation, like horizontal GPS\nvelocities.\n\n"
      ]
    },
    {
      "cell_type": "code",
      "execution_count": null,
      "metadata": {
        "collapsed": false
      },
      "outputs": [],
      "source": [
        "import matplotlib.pyplot as plt\nimport cartopy.crs as ccrs\nimport cartopy.feature as cfeature\n# We need these two classes to set proper ticklabels for Cartopy maps\nfrom cartopy.mpl.ticker import LongitudeFormatter, LatitudeFormatter\nimport numpy as np\nimport pyproj\nimport verde as vd\n\n\n# Fetch the GPS data from the U.S. West coast. We'll grid only the horizontal\n# components of the velocities\ndata = vd.datasets.fetch_california_gps()\ncoordinates = (data.longitude.values, data.latitude.values)\nregion = vd.get_region(coordinates)\n# Use a Mercator projection because Vector2D is a Cartesian gridder\nprojection = pyproj.Proj(proj='merc', lat_ts=data.latitude.mean())\n\n# Split the data into a training and testing set. We'll fit the gridder on the\n# training set and use the testing set to evaluate how well the gridder is\n# performing.\ntrain, test = vd.train_test_split(projection(*coordinates),\n                                  (data.velocity_east, data.velocity_north),\n                                  random_state=0)\n\n# We'll make a 20 arc-minute grid in the end.\nspacing = 20/60\n\n# Chain together a blocked mean to avoid aliasing, a polynomial trend to take\n# care of the increase toward the coast, and finally the vector gridder using\n# Poisson's ratio 0.5 to couple the two horizontal components.\nchain = vd.Chain([('mean', vd.BlockReduce(np.mean, spacing*111e3)),\n                  ('trend', vd.VectorTrend(degree=5)),\n                  ('spline', vd.Vector2D(poisson=0.5))])\n# Fit on the training data\nchain.fit(*train)\n# And score on the testing data. The best possible score is 1, meaning a\n# perfect prediction of the test data.\nscore = chain.score(*test)\nprint(\"Cross-validation R^2 score: {:.2f}\".format(score))\n\n# Interpolate our horizontal GPS velocities onto a regular geographic grid and\n# mask the data that are far from the observation points\ngrid = chain.grid(region, spacing=spacing, projection=projection,\n                  dims=['latitude', 'longitude'])\nmask = vd.distance_mask((data.longitude, data.latitude), maxdist=0.5,\n                        region=region, spacing=spacing)\ngrid = grid.where(mask)\n\n# Calculate residuals between the predictions and the original input data.\n# Even though we aren't using regularization or regularly distributed forces,\n# the prediction won't be perfect because of the BlockReduce operation. We fit\n# the gridder on the reduced observations, not the original data.\npredicted = chain.predict(projection(*coordinates))\nresiduals = (data.velocity_east - predicted[0],\n             data.velocity_north - predicted[1])\n\n# Make maps of the original velocities, the gridded velocities, and the\n# residuals\n\n\ndef setup_map(ax, title):\n    \"Setup a map with land and ocean polygons and proper tick labels\"\n    ax.set_title(title)\n    # Setup the map ticks\n    ax.set_xticks(np.arange(-124, -115, 2), crs=crs)\n    ax.set_yticks(np.arange(33, 42, 2), crs=crs)\n    ax.xaxis.set_major_formatter(LongitudeFormatter())\n    ax.yaxis.set_major_formatter(LatitudeFormatter())\n    ax.add_feature(cfeature.LAND)\n    ax.add_feature(cfeature.OCEAN)\n    # Extend the plot region to avoid cutting off some vectors at the borders\n    ax.set_extent(vd.pad_region(region, pad=0.5), crs=crs)\n\n\nfig, axes = plt.subplots(1, 2, figsize=(12, 8),\n                         subplot_kw=dict(projection=ccrs.Mercator()))\ncrs = ccrs.PlateCarree()\n# Plot the observed data and the residuals\nax = axes[0]\ntmp = ax.quiver(data.longitude.values, data.latitude.values,\n                data.velocity_east.values, data.velocity_north.values,\n                scale=0.3, transform=crs, width=0.001, label=\"Velocities\")\nax.quiverkey(tmp, 0.13, 0.18, 0.05, label='0.05 m/yr', coordinates='figure')\nax.quiver(data.longitude.values, data.latitude.values,\n          residuals[0].values, residuals[1].values,\n          scale=0.3, transform=crs, color='r', width=0.001, label=\"Residuals\")\nsetup_map(ax, 'GPS horizontal velocities')\nax.legend(loc=\"lower left\")\n# Plot the gridded data and the residuals\nax = axes[1]\ntmp = ax.quiver(grid.longitude.values, grid.latitude.values,\n                grid.east_component.values, grid.north_component.values,\n                scale=0.3, transform=crs, width=0.002)\nax.quiverkey(tmp, 0.63, 0.18, 0.05, label='0.05 m/yr', coordinates='figure')\nax.quiver(data.longitude.values, data.latitude.values,\n          residuals[0].values, residuals[1].values,\n          scale=0.3, transform=crs, color='r', width=0.001)\nsetup_map(ax, 'Gridded velocities')\nplt.tight_layout()\nplt.show()"
      ]
    }
  ],
  "metadata": {
    "kernelspec": {
      "display_name": "Python 3",
      "language": "python",
      "name": "python3"
    },
    "language_info": {
      "codemirror_mode": {
        "name": "ipython",
        "version": 3
      },
      "file_extension": ".py",
      "mimetype": "text/x-python",
      "name": "python",
      "nbconvert_exporter": "python",
      "pygments_lexer": "ipython3",
      "version": "3.6.5"
    }
  },
  "nbformat": 4,
  "nbformat_minor": 0
}