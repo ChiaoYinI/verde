{
  "cells": [
    {
      "cell_type": "code",
      "execution_count": null,
      "metadata": {
        "collapsed": false
      },
      "outputs": [],
      "source": [
        "%matplotlib inline"
      ]
    },
    {
      "cell_type": "markdown",
      "metadata": {},
      "source": [
        "\nData decimation with weights\n============================\n\nSometimes data has outliers or less reliable points that might skew a blocked\nmean or even a median. If the reduction function can take a ``weights``\nargument, like ``numpy.average``, you can pass in weights to\n:class:`verde.BlockReduce` to lower the influence of the offending data points.\nHowever, :class:`verde.BlockReduce` can't produce weights for the blocked data\n(for use by a gridder, for example). If you want to produced blocked weights as\nwell, use :class:`verde.BlockMean`.\n\n"
      ]
    },
    {
      "cell_type": "code",
      "execution_count": null,
      "metadata": {
        "collapsed": false
      },
      "outputs": [],
      "source": [
        "import matplotlib.pyplot as plt\nimport cartopy.crs as ccrs\nimport cartopy.feature as cfeature\n# We need these two classes to set proper ticklabels for Cartopy maps\nfrom cartopy.mpl.ticker import LongitudeFormatter, LatitudeFormatter\nimport numpy as np\nimport verde as vd\n\n# We'll test this on the California vertical GPS velocity data\ndata = vd.datasets.fetch_california_gps()\n\n# We'll add some random extreme outliers to the data\noutliers = np.random.RandomState(2).randint(0, data.shape[0], size=20)\ndata.velocity_up[outliers] += 0.08\nprint(\"Index of outliers:\", outliers)\n\n# Create an array of weights and set the weights for the outliers to a very low\n# value\nweights = np.ones_like(data.velocity_up)\nweights[outliers] = 1e-5\n\n# Now we can block average the points with and without weights to compare the\n# outputs.\nreducer = vd.BlockReduce(reduction=np.average, spacing=30/60,\n                         center_coordinates=True)\ncoordinates, no_weights = reducer.filter((data.longitude, data.latitude),\n                                         data.velocity_up)\n_, with_weights = reducer.filter((data.longitude, data.latitude),\n                                 data.velocity_up, weights)\n\n# Now we can plot the data sets side by side on Mercator maps\nfig, axes = plt.subplots(1, 2, figsize=(9, 7),\n                         subplot_kw=dict(projection=ccrs.Mercator()))\ntitles = ['No Weights', 'Weights']\ncrs = ccrs.PlateCarree()\nmaxabs = np.max(np.abs([data.velocity_up.min(),\n                        data.velocity_up.max()]))\nfor ax, title, velocity in zip(axes, titles, (no_weights, with_weights)):\n    ax.set_title(title)\n    # Plot the locations of the outliers\n    ax.plot(data.longitude[outliers], data.latitude[outliers], 'xk',\n            transform=crs, label='Outliers')\n    # Plot the block means and saturate the colorbar a bit to better show the\n    # differences in the data.\n    pc = ax.scatter(*coordinates, c=velocity, s=70, transform=crs,\n                    cmap='seismic', vmin=-maxabs/3, vmax=maxabs/3)\n    cb = plt.colorbar(pc, ax=ax, orientation='horizontal', pad=0.05)\n    cb.set_label('vertical velocity [m/yr]')\n    # Plot the land as a solid color\n    ax.add_feature(cfeature.LAND, edgecolor='black', facecolor='gray')\n    ax.add_feature(cfeature.OCEAN)\n    ax.set_extent(vd.get_region((data.longitude, data.latitude)), crs=crs)\n    # Set the proper ticks for a Cartopy map\n    ax.set_xticks(np.arange(-124, -115, 4), crs=crs)\n    ax.set_yticks(np.arange(33, 42, 2), crs=crs)\n    ax.xaxis.set_major_formatter(LongitudeFormatter())\n    ax.yaxis.set_major_formatter(LatitudeFormatter())\nax.legend(loc='lower left')\nplt.tight_layout()\nplt.show()"
      ]
    }
  ],
  "metadata": {
    "kernelspec": {
      "display_name": "Python 3",
      "language": "python",
      "name": "python3"
    },
    "language_info": {
      "codemirror_mode": {
        "name": "ipython",
        "version": 3
      },
      "file_extension": ".py",
      "mimetype": "text/x-python",
      "name": "python",
      "nbconvert_exporter": "python",
      "pygments_lexer": "ipython3",
      "version": "3.6.5"
    }
  },
  "nbformat": 4,
  "nbformat_minor": 0
}