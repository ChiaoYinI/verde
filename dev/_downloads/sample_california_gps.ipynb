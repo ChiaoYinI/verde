{
  "cells": [
    {
      "cell_type": "code",
      "execution_count": null,
      "metadata": {
        "collapsed": false
      },
      "outputs": [],
      "source": [
        "%matplotlib inline"
      ]
    },
    {
      "cell_type": "markdown",
      "metadata": {},
      "source": [
        "\nGPS velocities from California\n==============================\n\nWe provide sample 3-component GPS velocity data from the West coast of the U.S.\nThe data were cut from EarthScope Plate Boundary Observatory data provided by\nUNAVCO. The velocities are in the North American tectonic plate reference\nsystem (NAM08). The velocities and their associated standard deviations are in\nmeters/year.\n\n"
      ]
    },
    {
      "cell_type": "code",
      "execution_count": null,
      "metadata": {
        "collapsed": false
      },
      "outputs": [],
      "source": [
        "import matplotlib.pyplot as plt\nimport cartopy.crs as ccrs\nimport cartopy.feature as cfeature\n# We need these two classes to set proper ticklabels for Cartopy maps\nfrom cartopy.mpl.ticker import LongitudeFormatter, LatitudeFormatter\nimport numpy as np\nimport verde as vd\n\n\n# The data are in a pandas.DataFrame\ndata = vd.datasets.fetch_california_gps()\nprint(data.head())\n\n\ndef setup_map(ax):\n    \"Set the proper ticks for a Cartopy map and draw land and water\"\n    ax.set_xticks(np.arange(-124, -115, 4), crs=crs)\n    ax.set_yticks(np.arange(33, 42, 2), crs=crs)\n    ax.xaxis.set_major_formatter(LongitudeFormatter())\n    ax.yaxis.set_major_formatter(LatitudeFormatter())\n    # Extend the plot region a bit to show all vectors in the borders\n    region = vd.get_region((data.longitude, data.latitude))\n    ax.set_extent(vd.pad_region(region, 0.5), crs=crs)\n    # Plot the land and ocean as a solid color\n    ax.add_feature(cfeature.LAND, facecolor='gray')\n    ax.add_feature(cfeature.OCEAN)\n\n\n# Make a plot of the data using Cartopy to handle projections and coastlines\ncrs = ccrs.PlateCarree()\nfig, axes = plt.subplots(1, 2, figsize=(8, 4),\n                         subplot_kw=dict(projection=ccrs.Mercator()))\n# Plot the horizontal velocity vectors\nax = axes[0]\nax.set_title('GPS horizontal velocities')\nsetup_map(ax)\nax.quiver(data.longitude.values, data.latitude.values,\n          data.velocity_east.values, data.velocity_north.values,\n          scale=0.3, transform=crs)\n# Plot the vertical velocity\nax = axes[1]\nax.set_title('Vertical velocity')\nsetup_map(ax)\nmaxabs = np.abs([data.velocity_up.min(), data.velocity_up.max()]).max()\ntmp = ax.scatter(data.longitude, data.latitude, c=data.velocity_up,\n                 s=10, vmin=-maxabs/3, vmax=maxabs/3, cmap='seismic',\n                 transform=crs)\ncb = plt.colorbar(tmp, ax=ax)\ncb.set_label('meters/year')\nplt.tight_layout(w_pad=0)\nplt.show()"
      ]
    }
  ],
  "metadata": {
    "kernelspec": {
      "display_name": "Python 3",
      "language": "python",
      "name": "python3"
    },
    "language_info": {
      "codemirror_mode": {
        "name": "ipython",
        "version": 3
      },
      "file_extension": ".py",
      "mimetype": "text/x-python",
      "name": "python",
      "nbconvert_exporter": "python",
      "pygments_lexer": "ipython3",
      "version": "3.6.5"
    }
  },
  "nbformat": 4,
  "nbformat_minor": 0
}