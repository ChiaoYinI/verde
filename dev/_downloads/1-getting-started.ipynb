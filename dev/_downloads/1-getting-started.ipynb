{
  "cells": [
    {
      "cell_type": "code",
      "execution_count": null,
      "metadata": {
        "collapsed": false
      },
      "outputs": [],
      "source": [
        "%matplotlib inline"
      ]
    },
    {
      "cell_type": "markdown",
      "metadata": {},
      "source": [
        "\nGetting Started\n===============\n\nThis tutorial will help you get started with using Verde to grid some data.\n\n.. attention::\n\n    This is a work in progress. We're currently planning and prototyping what\n    will be included in the tutorial.\n\nOutline:\n\n* The library and where to find functions\n* Loading tests datasets (project it using pyproj)\n* Preparing data for gridding (block median)\n* The gridder classes, fitting, and their attributes\n* Predicting data using ``predict`` (evaluate the misfit)\n* Gridding (use Cartesian coordinates)\n* Using ``projection`` to make a geographic grid\n\n"
      ]
    },
    {
      "cell_type": "markdown",
      "metadata": {},
      "source": [
        "First this we need to do is import the ``verde`` library. All of the main\nfunctions and classes are available through this single ``import`` (the verde\n*namespace*). We'll also need a few other libraries for plotting and\nprojecting our data.\n\n"
      ]
    },
    {
      "cell_type": "code",
      "execution_count": null,
      "metadata": {
        "collapsed": false
      },
      "outputs": [],
      "source": [
        "import matplotlib.pyplot as plt\nimport cartopy.crs as ccrs\nimport cartopy.feature as cfeature\nimport pyproj\nimport numpy as np\nimport verde as vd"
      ]
    },
    {
      "cell_type": "markdown",
      "metadata": {},
      "source": [
        "The first thing to do is load a test data set with which we can work. Verde\noffers functions for loading our packaged test data in :mod:`verde.datasets`.\nIn this tutorial, we'll work with some bathymetry data from Baja California.\n\n"
      ]
    },
    {
      "cell_type": "code",
      "execution_count": null,
      "metadata": {
        "collapsed": false
      },
      "outputs": [],
      "source": [
        "data = vd.datasets.fetch_baja_bathymetry()"
      ]
    },
    {
      "cell_type": "markdown",
      "metadata": {},
      "source": [
        "The data are stored in a pandas.DataFrame object.\n\n"
      ]
    },
    {
      "cell_type": "code",
      "execution_count": null,
      "metadata": {
        "collapsed": false
      },
      "outputs": [],
      "source": [
        "print(\"Data is of type:\", type(data))\nprint(data.head())"
      ]
    },
    {
      "cell_type": "markdown",
      "metadata": {},
      "source": [
        "Plot the data using matplotlib and Cartopy\n\n"
      ]
    },
    {
      "cell_type": "code",
      "execution_count": null,
      "metadata": {
        "collapsed": false
      },
      "outputs": [],
      "source": [
        "crs = ccrs.PlateCarree()\n\nplt.figure(figsize=(7, 6))\nax = plt.axes(projection=ccrs.Mercator())\nax.set_title('Bathymetry data from Baja California', pad=25)\n# Plot the land as a solid color\nax.add_feature(cfeature.LAND, edgecolor='black')\n# Plot the bathymetry as colored circles.\nplt.scatter(data.longitude, data.latitude, c=data.bathymetry_m, s=0.1,\n            transform=crs)\ncb = plt.colorbar(pad=0.08)\ncb.set_label('meters')\nax.gridlines(draw_labels=True)\nplt.tight_layout()\nplt.show()"
      ]
    }
  ],
  "metadata": {
    "kernelspec": {
      "display_name": "Python 3",
      "language": "python",
      "name": "python3"
    },
    "language_info": {
      "codemirror_mode": {
        "name": "ipython",
        "version": 3
      },
      "file_extension": ".py",
      "mimetype": "text/x-python",
      "name": "python",
      "nbconvert_exporter": "python",
      "pygments_lexer": "ipython3",
      "version": "3.6.5"
    }
  },
  "nbformat": 4,
  "nbformat_minor": 0
}