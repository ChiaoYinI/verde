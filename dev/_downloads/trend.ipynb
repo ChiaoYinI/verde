{
  "cells": [
    {
      "cell_type": "code",
      "execution_count": null,
      "metadata": {
        "collapsed": false
      },
      "outputs": [],
      "source": [
        "%matplotlib inline"
      ]
    },
    {
      "cell_type": "markdown",
      "metadata": {},
      "source": [
        "\nPolynomial trend\n================\n\nVerde offers the :class:`verde.Trend` class to fit a 2D polynomial trend to\nyour data. This can be useful for isolating a regional component of your data,\nfor example, which is a common operation for gravity and magnetic data. Let's\nlook at how we can use Verde to remove the clear positive trend from the Rio de\nJaneiro magnetic anomaly data.\n\n"
      ]
    },
    {
      "cell_type": "code",
      "execution_count": null,
      "metadata": {
        "collapsed": false
      },
      "outputs": [],
      "source": [
        "import numpy as np\nimport matplotlib.pyplot as plt\nimport cartopy.crs as ccrs\n# We need these two classes to set proper ticklabels for Cartopy maps\nfrom cartopy.mpl.ticker import LongitudeFormatter, LatitudeFormatter\nimport verde as vd\n\n# Load the Rio de Janeiro total field magnetic anomaly data as a\n# pandas.DataFrame\ndata = vd.datasets.fetch_rio_magnetic_anomaly()\nprint(\"Original data:\")\nprint(data.head())\n\n# Fit a 2nd degree 2D polynomial to the anomaly data\ncoordinates = (data.longitude, data.latitude)\ntrend = vd.Trend(degree=2).fit(coordinates, data.total_field_anomaly_nt)\nprint(\"\\nTrend estimator:\", trend)\n\n# Add the estimated trend and the residual data to the DataFrame\ndata['trend'] = trend.predict(coordinates)\ndata['residual'] = trend.residual_\nprint(\"\\nUpdated DataFrame:\")\nprint(data.head())\n\n\n# Make a function to plot the data using the same colorbar\ndef plot_data(column, i, title):\n    \"Plot the column from the DataFrame in the ith subplot\"\n    crs = ccrs.PlateCarree()\n    ax = plt.subplot(2, 2, i, projection=ccrs.Mercator())\n    ax.set_title(title)\n    # Set vmin and vmax to the extremes of the original data\n    maxabs = np.max(np.abs([data.total_field_anomaly_nt.min(),\n                            data.total_field_anomaly_nt.max()]))\n    mappable = ax.scatter(data.longitude, data.latitude, c=data[column], s=1,\n                          cmap='seismic', vmin=-maxabs, vmax=maxabs,\n                          transform=crs)\n    # Set the proper ticks for a Cartopy map\n    ax.set_xticks(np.arange(-42.5, -42, 0.1), crs=crs)\n    ax.set_yticks(np.arange(-22.4, -22, 0.1), crs=crs)\n    ax.xaxis.set_major_formatter(LongitudeFormatter())\n    ax.yaxis.set_major_formatter(LatitudeFormatter())\n    # Set the plot region to be tight around the data\n    ax.set_extent(vd.get_region((data.longitude, data.latitude)))\n    return mappable\n\n\nplt.figure(figsize=(9, 8))\n\n# Plot the data fields and capture the mappable returned by scatter to use for\n# the colorbar\nmappable = plot_data('total_field_anomaly_nt', 1, 'Original magnetic anomaly')\nplot_data('trend', 2, 'Regional trend')\nplot_data('residual', 3, 'Residual')\n\n# Make histograms of the data and the residuals to show that the trend was\n# removed\nax = plt.subplot(2, 2, 4)\nax.set_title('Distribution of data')\nax.hist(data.total_field_anomaly_nt, bins='auto', alpha=0.7,\n        label='Original data')\nax.hist(data.residual, bins='auto', alpha=0.7, label='Residuals')\nax.legend()\nax.set_xlabel('Total field anomaly (nT)')\n\n# Add a single colorbar on top of the histogram plot where there is some space\ncax = plt.axes((0.58, 0.44, 0.18, 0.015))\ncb = plt.colorbar(mappable, cax=cax, orientation='horizontal',\n                  ticks=np.arange(-800, 801, 400))\ncb.set_label('nT')\n\nplt.tight_layout()\nplt.show()"
      ]
    }
  ],
  "metadata": {
    "kernelspec": {
      "display_name": "Python 3",
      "language": "python",
      "name": "python3"
    },
    "language_info": {
      "codemirror_mode": {
        "name": "ipython",
        "version": 3
      },
      "file_extension": ".py",
      "mimetype": "text/x-python",
      "name": "python",
      "nbconvert_exporter": "python",
      "pygments_lexer": "ipython3",
      "version": "3.6.5"
    }
  },
  "nbformat": 4,
  "nbformat_minor": 0
}