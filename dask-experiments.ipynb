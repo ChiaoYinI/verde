{
 "cells": [
  {
   "cell_type": "code",
   "execution_count": 1,
   "metadata": {},
   "outputs": [],
   "source": [
    "import numpy as np\n",
    "import scipy.linalg as spla\n",
    "import matplotlib.pyplot as plt\n",
    "import dask.array as da\n",
    "import dask\n",
    "from dask.distributed import Client, LocalCluster\n",
    "import verde as vd"
   ]
  },
  {
   "cell_type": "code",
   "execution_count": 2,
   "metadata": {},
   "outputs": [
    {
     "data": {
      "text/html": [
       "<table style=\"border: 2px solid white;\">\n",
       "<tr>\n",
       "<td style=\"vertical-align: top; border: 0px solid white\">\n",
       "<h3 style=\"text-align: left;\">Client</h3>\n",
       "<ul style=\"text-align: left; list-style: none; margin: 0; padding: 0;\">\n",
       "  <li><b>Scheduler: </b>tcp://127.0.0.1:35337</li>\n",
       "  <li><b>Dashboard: </b><a href='http://127.0.0.1:8787/status' target='_blank'>http://127.0.0.1:8787/status</a>\n",
       "</ul>\n",
       "</td>\n",
       "<td style=\"vertical-align: top; border: 0px solid white\">\n",
       "<h3 style=\"text-align: left;\">Cluster</h3>\n",
       "<ul style=\"text-align: left; list-style:none; margin: 0; padding: 0;\">\n",
       "  <li><b>Workers: </b>1</li>\n",
       "  <li><b>Cores: </b>6</li>\n",
       "  <li><b>Memory: </b>120.00 GB</li>\n",
       "</ul>\n",
       "</td>\n",
       "</tr>\n",
       "</table>"
      ],
      "text/plain": [
       "<Client: 'tcp://127.0.0.1:35337' processes=1 threads=6, memory=120.00 GB>"
      ]
     },
     "execution_count": 2,
     "metadata": {},
     "output_type": "execute_result"
    }
   ],
   "source": [
    "client = Client(\n",
    "    LocalCluster(n_workers=1, threads_per_worker=6, memory_limit=\"120Gb\")\n",
    ")\n",
    "client"
   ]
  },
  {
   "cell_type": "code",
   "execution_count": 15,
   "metadata": {},
   "outputs": [
    {
     "data": {
      "text/html": [
       "<div>\n",
       "<style scoped>\n",
       "    .dataframe tbody tr th:only-of-type {\n",
       "        vertical-align: middle;\n",
       "    }\n",
       "\n",
       "    .dataframe tbody tr th {\n",
       "        vertical-align: top;\n",
       "    }\n",
       "\n",
       "    .dataframe thead th {\n",
       "        text-align: right;\n",
       "    }\n",
       "</style>\n",
       "<table border=\"1\" class=\"dataframe\">\n",
       "  <thead>\n",
       "    <tr style=\"text-align: right;\">\n",
       "      <th></th>\n",
       "      <th>northing</th>\n",
       "      <th>easting</th>\n",
       "      <th>scalars</th>\n",
       "    </tr>\n",
       "  </thead>\n",
       "  <tbody>\n",
       "    <tr>\n",
       "      <th>0</th>\n",
       "      <td>-2847.952432</td>\n",
       "      <td>2744.067520</td>\n",
       "      <td>369.215891</td>\n",
       "    </tr>\n",
       "    <tr>\n",
       "      <th>1</th>\n",
       "      <td>-3371.786911</td>\n",
       "      <td>3575.946832</td>\n",
       "      <td>-246.224800</td>\n",
       "    </tr>\n",
       "    <tr>\n",
       "      <th>2</th>\n",
       "      <td>-4925.285531</td>\n",
       "      <td>3013.816880</td>\n",
       "      <td>944.315102</td>\n",
       "    </tr>\n",
       "    <tr>\n",
       "      <th>3</th>\n",
       "      <td>-1302.862432</td>\n",
       "      <td>2724.415915</td>\n",
       "      <td>-529.875663</td>\n",
       "    </tr>\n",
       "    <tr>\n",
       "      <th>4</th>\n",
       "      <td>-2798.950919</td>\n",
       "      <td>2118.273997</td>\n",
       "      <td>-598.382342</td>\n",
       "    </tr>\n",
       "    <tr>\n",
       "      <th>...</th>\n",
       "      <td>...</td>\n",
       "      <td>...</td>\n",
       "      <td>...</td>\n",
       "    </tr>\n",
       "    <tr>\n",
       "      <th>10747</th>\n",
       "      <td>-50.684791</td>\n",
       "      <td>1354.922313</td>\n",
       "      <td>-258.541077</td>\n",
       "    </tr>\n",
       "    <tr>\n",
       "      <th>10748</th>\n",
       "      <td>-2555.119864</td>\n",
       "      <td>925.506532</td>\n",
       "      <td>721.121313</td>\n",
       "    </tr>\n",
       "    <tr>\n",
       "      <th>10749</th>\n",
       "      <td>-3970.175862</td>\n",
       "      <td>4404.530777</td>\n",
       "      <td>848.420161</td>\n",
       "    </tr>\n",
       "    <tr>\n",
       "      <th>10750</th>\n",
       "      <td>-690.430666</td>\n",
       "      <td>3449.865820</td>\n",
       "      <td>-112.104049</td>\n",
       "    </tr>\n",
       "    <tr>\n",
       "      <th>10751</th>\n",
       "      <td>-1682.861706</td>\n",
       "      <td>666.673789</td>\n",
       "      <td>-461.801546</td>\n",
       "    </tr>\n",
       "  </tbody>\n",
       "</table>\n",
       "<p>10752 rows × 3 columns</p>\n",
       "</div>"
      ],
      "text/plain": [
       "          northing      easting     scalars\n",
       "0     -2847.952432  2744.067520  369.215891\n",
       "1     -3371.786911  3575.946832 -246.224800\n",
       "2     -4925.285531  3013.816880  944.315102\n",
       "3     -1302.862432  2724.415915 -529.875663\n",
       "4     -2798.950919  2118.273997 -598.382342\n",
       "...            ...          ...         ...\n",
       "10747   -50.684791  1354.922313 -258.541077\n",
       "10748 -2555.119864   925.506532  721.121313\n",
       "10749 -3970.175862  4404.530777  848.420161\n",
       "10750  -690.430666  3449.865820 -112.104049\n",
       "10751 -1682.861706   666.673789 -461.801546\n",
       "\n",
       "[10752 rows x 3 columns]"
      ]
     },
     "execution_count": 15,
     "metadata": {},
     "output_type": "execute_result"
    }
   ],
   "source": [
    "data = vd.datasets.CheckerBoard().scatter(size=10752)\n",
    "east, north = data.easting.values, data.northing.values\n",
    "coordinates = (east, north)\n",
    "d = data.scalars + np.random.normal(scale=1, size=data.shape[0])\n",
    "data"
   ]
  },
  {
   "cell_type": "code",
   "execution_count": 16,
   "metadata": {},
   "outputs": [],
   "source": [
    "def scale(x):\n",
    "    scale_ = np.nanstd(x, axis=0)\n",
    "    return x/scale_\n",
    "\n",
    "def square_chunk(size, chunk):\n",
    "    c = 1\n",
    "    for n in range(1, size):\n",
    "        if size % n == 0:\n",
    "            c = n\n",
    "        if n > 1*chunk:\n",
    "            print(\"too big\")\n",
    "            break\n",
    "    return c\n",
    "\n",
    "def skinny_chunk(size, chunk):\n",
    "    c = size*chunk//chunk**2\n",
    "    return (size, size//c)\n"
   ]
  },
  {
   "cell_type": "code",
   "execution_count": 17,
   "metadata": {},
   "outputs": [
    {
     "name": "stdout",
     "output_type": "stream",
     "text": [
      "too big\n",
      "1344\n"
     ]
    }
   ],
   "source": [
    "mindist = 100e3\n",
    "damp = 1e-3\n",
    "size = d.size\n",
    "chunk = 1500\n",
    "new_chunk = square_chunk(size, chunk)\n",
    "#new_chunk = skinny_chunk(size, chunk)\n",
    "print(new_chunk)"
   ]
  },
  {
   "cell_type": "code",
   "execution_count": 21,
   "metadata": {},
   "outputs": [
    {
     "name": "stdout",
     "output_type": "stream",
     "text": [
      "CPU times: user 40.7 s, sys: 1.16 s, total: 41.8 s\n",
      "Wall time: 39.6 s\n"
     ]
    }
   ],
   "source": [
    "%%time\n",
    "A = scale(vd.Spline(mindist=mindist).jacobian(coordinates, coordinates))\n",
    "p = spla.solve(A.T@A + damp*np.eye(size), A.T@d, sym_pos=True)"
   ]
  },
  {
   "cell_type": "code",
   "execution_count": 18,
   "metadata": {},
   "outputs": [],
   "source": [
    "def dask_green(e, n, md):\n",
    "    d = da.sqrt(e**2 + n**2) + md\n",
    "    return d**2 * (da.log(d) - 1)\n",
    "\n",
    "def jacobian_dask(e, n, pe, pn, md):\n",
    "    A = dask_green(\n",
    "        e[np.newaxis].T - pe,\n",
    "        n[np.newaxis].T - pn,\n",
    "        md\n",
    "    )\n",
    "    return A\n",
    "\n",
    "def scale_dask(x):\n",
    "    scale_ = da.nanstd(x, axis=0)\n",
    "    return x/scale_, scale_"
   ]
  },
  {
   "cell_type": "code",
   "execution_count": 19,
   "metadata": {},
   "outputs": [],
   "source": [
    "deast, dnorth, dd = [\n",
    "    da.from_array(i, chunks=new_chunk) for i in (east, north, d)\n",
    "]"
   ]
  },
  {
   "cell_type": "code",
   "execution_count": 20,
   "metadata": {},
   "outputs": [
    {
     "name": "stdout",
     "output_type": "stream",
     "text": [
      "CPU times: user 7.09 s, sys: 411 ms, total: 7.5 s\n",
      "Wall time: 18.3 s\n"
     ]
    }
   ],
   "source": [
    "%%time\n",
    "B, scale_ = scale_dask(jacobian_dask(deast, dnorth, deast, dnorth, mindist))\n",
    "hessian = B.T@B \n",
    "gradient = B.T@dd\n",
    "gradient = gradient.rechunk(new_chunk)\n",
    "hessian = hessian.rechunk(new_chunk)\n",
    "hessian = hessian + damp*da.eye(size, chunks=new_chunk)\n",
    "#client.persist((hessian, gradient, B))\n",
    "pa = da.linalg.solve(hessian, gradient).compute()\n",
    "del hessian, gradient, B"
   ]
  },
  {
   "cell_type": "code",
   "execution_count": 26,
   "metadata": {},
   "outputs": [
    {
     "name": "stderr",
     "output_type": "stream",
     "text": [
      "distributed.client - ERROR - Failed to reconnect to scheduler after 10.00 seconds, closing client\n",
      "distributed.utils - ERROR - \n",
      "Traceback (most recent call last):\n",
      "  File \"/home/leo/miniconda3/envs/verde/lib/python3.7/site-packages/distributed/utils.py\", line 662, in log_errors\n",
      "    yield\n",
      "  File \"/home/leo/miniconda3/envs/verde/lib/python3.7/site-packages/distributed/client.py\", line 1290, in _close\n",
      "    await gen.with_timeout(timedelta(seconds=2), list(coroutines))\n",
      "concurrent.futures._base.CancelledError\n",
      "distributed.utils - ERROR - \n",
      "Traceback (most recent call last):\n",
      "  File \"/home/leo/miniconda3/envs/verde/lib/python3.7/site-packages/distributed/utils.py\", line 662, in log_errors\n",
      "    yield\n",
      "  File \"/home/leo/miniconda3/envs/verde/lib/python3.7/site-packages/distributed/client.py\", line 1019, in _reconnect\n",
      "    await self._close()\n",
      "  File \"/home/leo/miniconda3/envs/verde/lib/python3.7/site-packages/distributed/client.py\", line 1290, in _close\n",
      "    await gen.with_timeout(timedelta(seconds=2), list(coroutines))\n",
      "concurrent.futures._base.CancelledError\n"
     ]
    }
   ],
   "source": [
    "client.shutdown()"
   ]
  },
  {
   "cell_type": "code",
   "execution_count": null,
   "metadata": {},
   "outputs": [],
   "source": []
  }
 ],
 "metadata": {
  "kernelspec": {
   "display_name": "Python [conda env:verde]",
   "language": "python",
   "name": "conda-env-verde-py"
  },
  "language_info": {
   "codemirror_mode": {
    "name": "ipython",
    "version": 3
   },
   "file_extension": ".py",
   "mimetype": "text/x-python",
   "name": "python",
   "nbconvert_exporter": "python",
   "pygments_lexer": "ipython3",
   "version": "3.7.3"
  }
 },
 "nbformat": 4,
 "nbformat_minor": 4
}
